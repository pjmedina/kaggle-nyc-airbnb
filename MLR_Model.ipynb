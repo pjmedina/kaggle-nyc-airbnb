{
 "cells": [
  {
   "cell_type": "markdown",
   "metadata": {},
   "source": [
    "# Analyzing Airbnb data of Toronto in 2019"
   ]
  },
  {
   "cell_type": "code",
   "execution_count": 45,
   "metadata": {},
   "outputs": [],
   "source": [
    "import numpy as np\n",
    "import pandas as pd\n",
    "import matplotlib.pyplot as plt\n",
    "import matplotlib.image as mpimg\n",
    "#'exec(%matplotlib inline)'\n",
    "import seaborn as sns\n",
    "\n",
    "from sklearn.model_selection import train_test_split\n",
    "from sklearn.preprocessing import MinMaxScaler\n",
    "from sklearn import preprocessing\n",
    "from sklearn.linear_model import LinearRegression\n",
    "from sklearn.metrics import mean_squared_error,r2_score\n",
    "from sklearn.tree import DecisionTreeRegressor"
   ]
  },
  {
   "cell_type": "code",
   "execution_count": 119,
   "metadata": {},
   "outputs": [],
   "source": [
    "data = pd.read_csv('AB_TO_2019.csv')"
   ]
  },
  {
   "cell_type": "code",
   "execution_count": 120,
   "metadata": {},
   "outputs": [
    {
     "data": {
      "text/plain": [
       "Index(['id', 'name', 'host_name', 'host_is_superhost', 'host_listings_count',\n",
       "       'neighbourhood', 'latitude', 'longitude', 'property_type', 'room_type',\n",
       "       'accommodates', 'bathrooms', 'bedrooms', 'beds', 'bed_type', 'price',\n",
       "       'availability_365', 'review_scores_rating', 'review_scores_accuracy',\n",
       "       'review_scores_cleanliness', 'review_scores_checkin',\n",
       "       'review_scores_communication', 'review_scores_location',\n",
       "       'review_scores_value'],\n",
       "      dtype='object')"
      ]
     },
     "execution_count": 120,
     "metadata": {},
     "output_type": "execute_result"
    }
   ],
   "source": [
    "data.columns"
   ]
  },
  {
   "cell_type": "markdown",
   "metadata": {},
   "source": [
    "## Cleaning Data"
   ]
  },
  {
   "cell_type": "code",
   "execution_count": 121,
   "metadata": {},
   "outputs": [],
   "source": [
    "\n",
    "#fill NaNs with 0\n",
    "data.fillna({'bathrooms':0,'bedrooms':0,'beds':0,'host_listings_count':0}, inplace = True)\n",
    "\n",
    "#drop undesired predictive columns\n",
    "data.drop(['id', 'name','host_name','review_scores_rating', 'review_scores_accuracy','review_scores_cleanliness','review_scores_communication','review_scores_location','review_scores_value','review_scores_checkin'], axis=1, inplace=True)\n",
    "\n",
    "#remove outliers\n",
    "data = data.loc[data['price']<=700]\n",
    "\n",
    "#only use top 10 neighbourhoods\n",
    "top_10_nb = data.neighbourhood.value_counts().head(10).index.tolist()\n",
    "df_1 = data.loc[data['neighbourhood'].isin(top_10_nb)]\n",
    "\n",
    "#only use top 5 property types\n",
    "top_5_property_types = df_1.property_type.value_counts().head(5).index.tolist()\n",
    "df_2 = df_1.loc[df_1['property_type'].isin(top_5_property_types)]\n"
   ]
  },
  {
   "cell_type": "code",
   "execution_count": 122,
   "metadata": {},
   "outputs": [
    {
     "name": "stderr",
     "output_type": "stream",
     "text": [
      "/anaconda3/lib/python3.6/site-packages/ipykernel_launcher.py:2: SettingWithCopyWarning: \n",
      "A value is trying to be set on a copy of a slice from a DataFrame.\n",
      "Try using .loc[row_indexer,col_indexer] = value instead\n",
      "\n",
      "See the caveats in the documentation: http://pandas.pydata.org/pandas-docs/stable/indexing.html#indexing-view-versus-copy\n",
      "  \n",
      "/anaconda3/lib/python3.6/site-packages/ipykernel_launcher.py:3: SettingWithCopyWarning: \n",
      "A value is trying to be set on a copy of a slice from a DataFrame.\n",
      "Try using .loc[row_indexer,col_indexer] = value instead\n",
      "\n",
      "See the caveats in the documentation: http://pandas.pydata.org/pandas-docs/stable/indexing.html#indexing-view-versus-copy\n",
      "  This is separate from the ipykernel package so we can avoid doing imports until\n",
      "/anaconda3/lib/python3.6/site-packages/ipykernel_launcher.py:4: SettingWithCopyWarning: \n",
      "A value is trying to be set on a copy of a slice from a DataFrame.\n",
      "Try using .loc[row_indexer,col_indexer] = value instead\n",
      "\n",
      "See the caveats in the documentation: http://pandas.pydata.org/pandas-docs/stable/indexing.html#indexing-view-versus-copy\n",
      "  after removing the cwd from sys.path.\n",
      "/anaconda3/lib/python3.6/site-packages/ipykernel_launcher.py:5: SettingWithCopyWarning: \n",
      "A value is trying to be set on a copy of a slice from a DataFrame.\n",
      "Try using .loc[row_indexer,col_indexer] = value instead\n",
      "\n",
      "See the caveats in the documentation: http://pandas.pydata.org/pandas-docs/stable/indexing.html#indexing-view-versus-copy\n",
      "  \"\"\"\n"
     ]
    }
   ],
   "source": [
    "#process categorical features into numerical\n",
    "df_2['neighbourhood'] = df_2['neighbourhood'].astype('category').cat.codes\n",
    "df_2['room_type'] = df_2['room_type'].astype('category').cat.codes\n",
    "df_2['property_type']= df_2['property_type'].astype('category').cat.codes\n",
    "df_2['host_is_superhost']= df_2['host_is_superhost'].astype('category').cat.codes"
   ]
  },
  {
   "cell_type": "code",
   "execution_count": 123,
   "metadata": {},
   "outputs": [
    {
     "data": {
      "text/html": [
       "<div>\n",
       "<style scoped>\n",
       "    .dataframe tbody tr th:only-of-type {\n",
       "        vertical-align: middle;\n",
       "    }\n",
       "\n",
       "    .dataframe tbody tr th {\n",
       "        vertical-align: top;\n",
       "    }\n",
       "\n",
       "    .dataframe thead th {\n",
       "        text-align: right;\n",
       "    }\n",
       "</style>\n",
       "<table border=\"1\" class=\"dataframe\">\n",
       "  <thead>\n",
       "    <tr style=\"text-align: right;\">\n",
       "      <th></th>\n",
       "      <th>host_is_superhost</th>\n",
       "      <th>host_listings_count</th>\n",
       "      <th>neighbourhood</th>\n",
       "      <th>latitude</th>\n",
       "      <th>longitude</th>\n",
       "      <th>property_type</th>\n",
       "      <th>room_type</th>\n",
       "      <th>accommodates</th>\n",
       "      <th>bathrooms</th>\n",
       "      <th>bedrooms</th>\n",
       "      <th>beds</th>\n",
       "      <th>price</th>\n",
       "      <th>availability_365</th>\n",
       "    </tr>\n",
       "  </thead>\n",
       "  <tbody>\n",
       "    <tr>\n",
       "      <th>count</th>\n",
       "      <td>9999.000000</td>\n",
       "      <td>9999.000000</td>\n",
       "      <td>9999.000000</td>\n",
       "      <td>9999.000000</td>\n",
       "      <td>9999.000000</td>\n",
       "      <td>9999.000000</td>\n",
       "      <td>9999.000000</td>\n",
       "      <td>9999.000000</td>\n",
       "      <td>9999.000000</td>\n",
       "      <td>9999.000000</td>\n",
       "      <td>9999.000000</td>\n",
       "      <td>9999.000000</td>\n",
       "      <td>9999.000000</td>\n",
       "    </tr>\n",
       "    <tr>\n",
       "      <th>mean</th>\n",
       "      <td>0.291529</td>\n",
       "      <td>5.791379</td>\n",
       "      <td>2.305431</td>\n",
       "      <td>43.658102</td>\n",
       "      <td>-79.395336</td>\n",
       "      <td>1.006501</td>\n",
       "      <td>0.257026</td>\n",
       "      <td>3.275628</td>\n",
       "      <td>1.236874</td>\n",
       "      <td>1.288429</td>\n",
       "      <td>1.672167</td>\n",
       "      <td>155.050705</td>\n",
       "      <td>107.776078</td>\n",
       "    </tr>\n",
       "    <tr>\n",
       "      <th>std</th>\n",
       "      <td>0.455149</td>\n",
       "      <td>13.543588</td>\n",
       "      <td>3.015119</td>\n",
       "      <td>0.030030</td>\n",
       "      <td>0.021401</td>\n",
       "      <td>1.004520</td>\n",
       "      <td>0.461288</td>\n",
       "      <td>1.909494</td>\n",
       "      <td>0.503808</td>\n",
       "      <td>0.771062</td>\n",
       "      <td>1.002665</td>\n",
       "      <td>103.119588</td>\n",
       "      <td>121.621160</td>\n",
       "    </tr>\n",
       "    <tr>\n",
       "      <th>min</th>\n",
       "      <td>-1.000000</td>\n",
       "      <td>0.000000</td>\n",
       "      <td>0.000000</td>\n",
       "      <td>43.632820</td>\n",
       "      <td>-79.459700</td>\n",
       "      <td>0.000000</td>\n",
       "      <td>0.000000</td>\n",
       "      <td>1.000000</td>\n",
       "      <td>0.000000</td>\n",
       "      <td>0.000000</td>\n",
       "      <td>0.000000</td>\n",
       "      <td>13.000000</td>\n",
       "      <td>0.000000</td>\n",
       "    </tr>\n",
       "    <tr>\n",
       "      <th>25%</th>\n",
       "      <td>0.000000</td>\n",
       "      <td>1.000000</td>\n",
       "      <td>0.000000</td>\n",
       "      <td>43.642185</td>\n",
       "      <td>-79.408530</td>\n",
       "      <td>0.000000</td>\n",
       "      <td>0.000000</td>\n",
       "      <td>2.000000</td>\n",
       "      <td>1.000000</td>\n",
       "      <td>1.000000</td>\n",
       "      <td>1.000000</td>\n",
       "      <td>89.000000</td>\n",
       "      <td>0.000000</td>\n",
       "    </tr>\n",
       "    <tr>\n",
       "      <th>50%</th>\n",
       "      <td>0.000000</td>\n",
       "      <td>1.000000</td>\n",
       "      <td>1.000000</td>\n",
       "      <td>43.648800</td>\n",
       "      <td>-79.394910</td>\n",
       "      <td>1.000000</td>\n",
       "      <td>0.000000</td>\n",
       "      <td>3.000000</td>\n",
       "      <td>1.000000</td>\n",
       "      <td>1.000000</td>\n",
       "      <td>1.000000</td>\n",
       "      <td>129.000000</td>\n",
       "      <td>61.000000</td>\n",
       "    </tr>\n",
       "    <tr>\n",
       "      <th>75%</th>\n",
       "      <td>1.000000</td>\n",
       "      <td>4.000000</td>\n",
       "      <td>4.000000</td>\n",
       "      <td>43.662470</td>\n",
       "      <td>-79.382280</td>\n",
       "      <td>1.000000</td>\n",
       "      <td>0.000000</td>\n",
       "      <td>4.000000</td>\n",
       "      <td>1.000000</td>\n",
       "      <td>2.000000</td>\n",
       "      <td>2.000000</td>\n",
       "      <td>196.000000</td>\n",
       "      <td>176.500000</td>\n",
       "    </tr>\n",
       "    <tr>\n",
       "      <th>max</th>\n",
       "      <td>1.000000</td>\n",
       "      <td>134.000000</td>\n",
       "      <td>9.000000</td>\n",
       "      <td>43.783810</td>\n",
       "      <td>-79.325690</td>\n",
       "      <td>4.000000</td>\n",
       "      <td>2.000000</td>\n",
       "      <td>16.000000</td>\n",
       "      <td>11.500000</td>\n",
       "      <td>8.000000</td>\n",
       "      <td>14.000000</td>\n",
       "      <td>700.000000</td>\n",
       "      <td>365.000000</td>\n",
       "    </tr>\n",
       "  </tbody>\n",
       "</table>\n",
       "</div>"
      ],
      "text/plain": [
       "       host_is_superhost  host_listings_count  neighbourhood     latitude  \\\n",
       "count        9999.000000          9999.000000    9999.000000  9999.000000   \n",
       "mean            0.291529             5.791379       2.305431    43.658102   \n",
       "std             0.455149            13.543588       3.015119     0.030030   \n",
       "min            -1.000000             0.000000       0.000000    43.632820   \n",
       "25%             0.000000             1.000000       0.000000    43.642185   \n",
       "50%             0.000000             1.000000       1.000000    43.648800   \n",
       "75%             1.000000             4.000000       4.000000    43.662470   \n",
       "max             1.000000           134.000000       9.000000    43.783810   \n",
       "\n",
       "         longitude  property_type    room_type  accommodates    bathrooms  \\\n",
       "count  9999.000000    9999.000000  9999.000000   9999.000000  9999.000000   \n",
       "mean    -79.395336       1.006501     0.257026      3.275628     1.236874   \n",
       "std       0.021401       1.004520     0.461288      1.909494     0.503808   \n",
       "min     -79.459700       0.000000     0.000000      1.000000     0.000000   \n",
       "25%     -79.408530       0.000000     0.000000      2.000000     1.000000   \n",
       "50%     -79.394910       1.000000     0.000000      3.000000     1.000000   \n",
       "75%     -79.382280       1.000000     0.000000      4.000000     1.000000   \n",
       "max     -79.325690       4.000000     2.000000     16.000000    11.500000   \n",
       "\n",
       "          bedrooms         beds        price  availability_365  \n",
       "count  9999.000000  9999.000000  9999.000000       9999.000000  \n",
       "mean      1.288429     1.672167   155.050705        107.776078  \n",
       "std       0.771062     1.002665   103.119588        121.621160  \n",
       "min       0.000000     0.000000    13.000000          0.000000  \n",
       "25%       1.000000     1.000000    89.000000          0.000000  \n",
       "50%       1.000000     1.000000   129.000000         61.000000  \n",
       "75%       2.000000     2.000000   196.000000        176.500000  \n",
       "max       8.000000    14.000000   700.000000        365.000000  "
      ]
     },
     "execution_count": 123,
     "metadata": {},
     "output_type": "execute_result"
    }
   ],
   "source": [
    "df_2.describe()"
   ]
  },
  {
   "cell_type": "markdown",
   "metadata": {},
   "source": [
    "## Preparing Data for Train/Test"
   ]
  },
  {
   "cell_type": "code",
   "execution_count": 124,
   "metadata": {},
   "outputs": [],
   "source": [
    "\n",
    "X = df_2[['host_is_superhost', 'host_listings_count', 'neighbourhood', 'latitude',\n",
    "         'longitude', 'property_type', 'room_type', 'accommodates', 'bathrooms',\n",
    "       'bedrooms', 'beds','availability_365']]\n"
   ]
  },
  {
   "cell_type": "code",
   "execution_count": 125,
   "metadata": {},
   "outputs": [],
   "source": [
    "y= df_2[['price']]"
   ]
  },
  {
   "cell_type": "code",
   "execution_count": 126,
   "metadata": {},
   "outputs": [],
   "source": [
    "#separate it into train and test\n",
    "X_train, X_test, y_train, y_test = train_test_split(X, y, test_size=0.2)"
   ]
  },
  {
   "cell_type": "code",
   "execution_count": 127,
   "metadata": {},
   "outputs": [
    {
     "data": {
      "text/plain": [
       "host_is_superhost      0\n",
       "host_listings_count    0\n",
       "neighbourhood          0\n",
       "latitude               0\n",
       "longitude              0\n",
       "property_type          0\n",
       "room_type              0\n",
       "accommodates           0\n",
       "bathrooms              0\n",
       "bedrooms               0\n",
       "beds                   0\n",
       "bed_type               0\n",
       "price                  0\n",
       "availability_365       0\n",
       "dtype: int64"
      ]
     },
     "execution_count": 127,
     "metadata": {},
     "output_type": "execute_result"
    }
   ],
   "source": [
    "df_2.isnull().sum()"
   ]
  },
  {
   "cell_type": "code",
   "execution_count": 128,
   "metadata": {},
   "outputs": [],
   "source": [
    "#fit and transform xtrain data using minmax scaler.\n",
    "scaler = MinMaxScaler()\n",
    "X_train_scaled = scaler.fit_transform(X_train)"
   ]
  },
  {
   "cell_type": "markdown",
   "metadata": {},
   "source": [
    "## Fit and Predit MLR Model"
   ]
  },
  {
   "cell_type": "code",
   "execution_count": 129,
   "metadata": {},
   "outputs": [
    {
     "data": {
      "text/plain": [
       "LinearRegression(copy_X=True, fit_intercept=True, n_jobs=1, normalize=False)"
      ]
     },
     "execution_count": 129,
     "metadata": {},
     "output_type": "execute_result"
    }
   ],
   "source": [
    "#create the model and fit (Train it) x_train (after scaling) and y_train (no scaling)\n",
    "model = LinearRegression()\n",
    "model.fit(X_train_scaled, y_train)"
   ]
  },
  {
   "cell_type": "code",
   "execution_count": 130,
   "metadata": {},
   "outputs": [],
   "source": [
    "#transform x_test\n",
    "X_test_scaled = scaler.transform(X_test)"
   ]
  },
  {
   "cell_type": "code",
   "execution_count": 131,
   "metadata": {},
   "outputs": [],
   "source": [
    "#predict using xtest transformed\n",
    "y_pred = model.predict(X_test_scaled)"
   ]
  },
  {
   "cell_type": "code",
   "execution_count": 132,
   "metadata": {},
   "outputs": [],
   "source": [
    "rmse = (np.sqrt(mean_squared_error(y_test, y_pred)))\n",
    "r2 = r2_score(y_test, y_pred)"
   ]
  },
  {
   "cell_type": "code",
   "execution_count": 133,
   "metadata": {},
   "outputs": [],
   "source": [
    "error_frame = pd.DataFrame({'Actual': np.array(y_test).flatten(), 'Predicted': y_pred.flatten()})"
   ]
  },
  {
   "cell_type": "code",
   "execution_count": 109,
   "metadata": {},
   "outputs": [
    {
     "data": {
      "text/html": [
       "<div>\n",
       "<style scoped>\n",
       "    .dataframe tbody tr th:only-of-type {\n",
       "        vertical-align: middle;\n",
       "    }\n",
       "\n",
       "    .dataframe tbody tr th {\n",
       "        vertical-align: top;\n",
       "    }\n",
       "\n",
       "    .dataframe thead th {\n",
       "        text-align: right;\n",
       "    }\n",
       "</style>\n",
       "<table border=\"1\" class=\"dataframe\">\n",
       "  <thead>\n",
       "    <tr style=\"text-align: right;\">\n",
       "      <th></th>\n",
       "      <th>Actual</th>\n",
       "      <th>Predicted</th>\n",
       "    </tr>\n",
       "  </thead>\n",
       "  <tbody>\n",
       "    <tr>\n",
       "      <th>0</th>\n",
       "      <td>157</td>\n",
       "      <td>185.688340</td>\n",
       "    </tr>\n",
       "    <tr>\n",
       "      <th>1</th>\n",
       "      <td>125</td>\n",
       "      <td>131.472575</td>\n",
       "    </tr>\n",
       "    <tr>\n",
       "      <th>2</th>\n",
       "      <td>199</td>\n",
       "      <td>163.740029</td>\n",
       "    </tr>\n",
       "    <tr>\n",
       "      <th>3</th>\n",
       "      <td>150</td>\n",
       "      <td>458.262567</td>\n",
       "    </tr>\n",
       "    <tr>\n",
       "      <th>4</th>\n",
       "      <td>51</td>\n",
       "      <td>34.356455</td>\n",
       "    </tr>\n",
       "  </tbody>\n",
       "</table>\n",
       "</div>"
      ],
      "text/plain": [
       "   Actual   Predicted\n",
       "0     157  185.688340\n",
       "1     125  131.472575\n",
       "2     199  163.740029\n",
       "3     150  458.262567\n",
       "4      51   34.356455"
      ]
     },
     "execution_count": 109,
     "metadata": {},
     "output_type": "execute_result"
    }
   ],
   "source": [
    "error_frame.head()"
   ]
  },
  {
   "cell_type": "code",
   "execution_count": 141,
   "metadata": {},
   "outputs": [
    {
     "name": "stdout",
     "output_type": "stream",
     "text": [
      "Coefficients ): \n",
      " [[  -8.01734823  117.29161095  -17.85836956  -44.34897581   21.69029408\n",
      "    22.08729059 -115.81957868  157.7556184   321.20124965  230.04802572\n",
      "    -9.93726117   35.24149598]]\n",
      "Intercept (b): \n",
      " [61.78384545]\n",
      "Mean residual sum of squares = 74.65\n",
      "R2 = 0.43\n",
      "0.43 of the variations can me explained by the models input\n"
     ]
    }
   ],
   "source": [
    "# The coefficients (m, b) of y = mx + b\n",
    "print('Coefficients ): \\n', model.coef_)\n",
    "print('Intercept (b): \\n', model.intercept_)\n",
    "\n",
    "print(\"Mean residual sum of squares = %.2f\"\n",
    "      % rmse)\n",
    "print('R2 = %.2f' % r2)\n",
    "\n",
    "print('%.2f of the variations can me explained by the models input' %r2)"
   ]
  },
  {
   "cell_type": "code",
   "execution_count": 137,
   "metadata": {},
   "outputs": [
    {
     "data": {
      "text/plain": [
       "Text(0.5,1,'Actual vs Predicted Values for Price per Night')"
      ]
     },
     "execution_count": 137,
     "metadata": {},
     "output_type": "execute_result"
    },
    {
     "data": {
      "image/png": "[encoded data removed]",
      "text/plain": [
       "<matplotlib.figure.Figure at 0x1a17ca0a58>"
      ]
     },
     "metadata": {},
     "output_type": "display_data"
    }
   ],
   "source": [
    "viz_1 = sns.scatterplot(x=\"Actual\", y=\"Predicted\", data=error_frame)\n",
    "viz_1.set_title('Actual vs Predicted Values for Price per Night')"
   ]
  },
  {
   "cell_type": "code",
   "execution_count": 138,
   "metadata": {},
   "outputs": [
    {
     "name": "stdout",
     "output_type": "stream",
     "text": [
      "Mean of residuals = -1.9774071249879575\n",
      "Standard deviation of residuals = 74.62265045037981\n"
     ]
    }
   ],
   "source": [
    "# to see how the residual errors behave\n",
    "residual_error = error_frame.Actual - error_frame.Predicted\n",
    "print(\"Mean of residuals =\", np.mean(residual_error))\n",
    "print(\"Standard deviation of residuals =\", np.std(residual_error))"
   ]
  },
  {
   "cell_type": "code",
   "execution_count": 145,
   "metadata": {},
   "outputs": [
    {
     "data": {
      "image/png": "[encoded data removed]",
      "text/plain": [
       "<matplotlib.figure.Figure at 0x1a17b54cf8>"
      ]
     },
     "metadata": {},
     "output_type": "display_data"
    }
   ],
   "source": [
    "\n",
    "\n",
    "viz_2 = sns.scatterplot(error_frame.Predicted ,residual_error)"
   ]
  },
  {
   "cell_type": "code",
   "execution_count": 152,
   "metadata": {},
   "outputs": [
    {
     "data": {
      "text/plain": [
       "Text(0.5,1,'Residual Plot')"
      ]
     },
     "execution_count": 152,
     "metadata": {},
     "output_type": "execute_result"
    },
    {
     "data": {
      "image/png": "[encoded data removed]",
      "text/plain": [
       "<matplotlib.figure.Figure at 0x1a18dec860>"
      ]
     },
     "metadata": {},
     "output_type": "display_data"
    }
   ],
   "source": [
    "viz_3 = sns.residplot(x=error_frame.Predicted ,y=residual_error, data=error_frame)\n",
    "viz_3.set_ylabel('Residual Error (Accuracy of the prediction)')\n",
    "viz_3.set_title('Residual Plot')"
   ]
  },
  {
   "cell_type": "markdown",
   "metadata": {},
   "source": [
    "Each point represents the price of an Airbnb listing. The distance of each point from 0 represents the quality of the prediction. If the point are close to 0, then the model did a good job. If the model is far from 0, then the model did a bad job. \n",
    "\n",
    "Now if the point lies on the positive side of the y-axis, this means that the prediction was lower than the actual value. Otherwise, the predcition was too high. If the point lies at 0, then the model perfectly predicted the price.\n"
   ]
  },
  {
   "cell_type": "code",
   "execution_count": 158,
   "metadata": {},
   "outputs": [
    {
     "data": {
      "text/plain": [
       "Text(0.5,1,'Distribution of Residual Error')"
      ]
     },
     "execution_count": 158,
     "metadata": {},
     "output_type": "execute_result"
    },
    {
     "data": {
      "image/png": "[encoded data removed]",
      "text/plain": [
       "<matplotlib.figure.Figure at 0x1a17c718d0>"
      ]
     },
     "metadata": {},
     "output_type": "display_data"
    }
   ],
   "source": [
    "viz_4 = sns.distplot(residual_error)\n",
    "viz_4.set_xlabel('Residual Error')\n",
    "viz_4.set_title('Distribution of Residual Error')"
   ]
  },
  {
   "cell_type": "code",
   "execution_count": null,
   "metadata": {},
   "outputs": [],
   "source": []
  }
 ],
 "metadata": {
  "kernelspec": {
   "display_name": "Python 3",
   "language": "python",
   "name": "python3"
  },
  "language_info": {
   "codemirror_mode": {
    "name": "ipython",
    "version": 3
   },
   "file_extension": ".py",
   "mimetype": "text/x-python",
   "name": "python",
   "nbconvert_exporter": "python",
   "pygments_lexer": "ipython3",
   "version": "3.6.4"
  }
 },
 "nbformat": 4,
 "nbformat_minor": 2
}
